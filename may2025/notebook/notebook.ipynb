{
 "cells": [
  {
   "cell_type": "markdown",
   "id": "e7ce9c4d",
   "metadata": {},
   "source": [
    "# OntoBOT – Interactive Notebook\n",
    "\n",
    "This notebook allows you to:\n",
    "- Load the OntoBOT ontology, action graph, and observation graph\n",
    "- Explore the ontology's structure (classes, properties)\n",
    "- Query each graph separately using SPARQL\n",
    "\n",
    "Ensure all three `.ttl` files are in the following paths:\n",
    "- `../ontology/OntoBOT.ttl`\n",
    "- `../kg-data/action-graph/kg.ttl`\n",
    "- `../kg-data/observation-graph/kg.ttl`\n",
    "\n",
    "Further details about the PSR - Action Ontology are available [here](https://kai-vu.github.io/OntoBOT/)\n",
    "The KGs were created based on a kitchen environment built in Webots. The images of the environment were given to different multimodal LMs, which created the KGs. More work is ongoing to automise this process for more seamless integration. Images can be found in the folder `images`. "
   ]
  },
  {
   "cell_type": "markdown",
   "id": "1f051c05",
   "metadata": {},
   "source": []
  },
  {
   "cell_type": "markdown",
   "id": "fd384b54",
   "metadata": {},
   "source": [
    "#### Set up"
   ]
  },
  {
   "cell_type": "code",
   "execution_count": null,
   "id": "d3f19bf4",
   "metadata": {},
   "outputs": [],
   "source": [
    "from rdflib import Graph, Namespace\n",
    "from rdflib.namespace import RDF, RDFS, OWL\n",
    "from rdflib import Graph, RDF, RDFS\n",
    "\n",
    "import pprint"
   ]
  },
  {
   "cell_type": "markdown",
   "id": "7a92c9ce",
   "metadata": {},
   "source": [
    "#### Load Ontology and KGs"
   ]
  },
  {
   "cell_type": "code",
   "execution_count": null,
   "id": "834b7100",
   "metadata": {},
   "outputs": [],
   "source": [
    "# Load the ontology\n",
    "ontology_graph = Graph()\n",
    "ontology_graph.parse(\"../ontology/OntoBOT.ttl\", format=\"turtle\")\n",
    "print(f\"Ontology loaded with {len(ontology_graph)} triples.\")\n",
    "\n",
    "# Load the action graph\n",
    "action_graph = Graph()\n",
    "action_graph.parse(\"../kg-data/action-graph/kg.ttl\", format=\"turtle\")\n",
    "print(f\"Action graph loaded with {len(action_graph)} triples.\")\n",
    "\n",
    "# Load the observation graph\n",
    "obs_graph = Graph()\n",
    "obs_graph.parse(\"../kg-data/observation-graph/kg.ttl\", format=\"turtle\")\n",
    "print(f\"Observation graph loaded with {len(obs_graph)} triples.\")"
   ]
  },
  {
   "cell_type": "code",
   "execution_count": null,
   "id": "644b3aed",
   "metadata": {},
   "outputs": [],
   "source": [
    "PSR = Namespace(\"https://w3id.org/OntoBOT#\")\n",
    "ontology_graph.bind(\"psr\", PSR)\n",
    "action_graph.bind(\"psr\", PSR)\n",
    "obs_graph.bind(\"psr\", PSR)"
   ]
  },
  {
   "cell_type": "markdown",
   "id": "eebf4d53",
   "metadata": {},
   "source": [
    "#### Explore the Ontology"
   ]
  },
  {
   "cell_type": "code",
   "execution_count": null,
   "id": "b6a92f1d",
   "metadata": {},
   "outputs": [],
   "source": [
    "# List all classes in the ontology\n",
    "\n",
    "q_classes = \"\"\"\n",
    "SELECT DISTINCT ?classLabel WHERE {\n",
    "  ?class a owl:Class ;\n",
    "  rdfs:label ?classLabel\n",
    "}\n",
    "\"\"\"\n",
    "\n",
    "results = ontology_graph.query(q_classes)\n",
    "print(\"Ontology Classes:\")\n",
    "for row in results:\n",
    "    pprint(row)"
   ]
  },
  {
   "cell_type": "code",
   "execution_count": null,
   "id": "8dafb4d8",
   "metadata": {},
   "outputs": [],
   "source": [
    "# List all obkect properties in the ontology\n",
    "\n",
    "q_obj_props = \"\"\"\n",
    "SELECT DISTINCT ?propLabel WHERE {\n",
    "  ?prop a owl:ObjectProperty ;\n",
    "    rdfs:label ?propLabel .\n",
    "}\n",
    "\"\"\"\n",
    "\n",
    "results = ontology_graph.query(q_obj_props)\n",
    "print(\"Object Properties:\")\n",
    "for row in results:\n",
    "    pprint(row)"
   ]
  },
  {
   "cell_type": "markdown",
   "id": "a6d33e39",
   "metadata": {},
   "source": [
    "#### Query the KGs"
   ]
  },
  {
   "cell_type": "code",
   "execution_count": null,
   "id": "eef6ac60",
   "metadata": {},
   "outputs": [],
   "source": [
    "# What are the objects in the environment?\n",
    "\n",
    "cq1 = \"\"\"\n",
    "PREFIX obot: <https://w3id.org/psr-action#>\n",
    "PREFIX dul: <http://www.ontologydesignpatterns.org/ont/dul/DUL.owl#>\n",
    "\n",
    "SELECT ?obj WHERE {\n",
    "  ?environment dul:hasComponent ?obj\n",
    "}\n",
    "\"\"\"\n",
    "results = obs_graph.query(cq1)\n",
    "print(\"Objects on the table:\")\n",
    "for row in results:\n",
    "    pprint(row)"
   ]
  },
  {
   "cell_type": "code",
   "execution_count": null,
   "id": "08c80f75",
   "metadata": {},
   "outputs": [],
   "source": [
    "# What are the objects on the kitchen counter? \n",
    "\n",
    "cq2 = \"\"\"\n",
    "PREFIX obot: <https://w3id.org/psr-action#>\n",
    "PREFIX dul: <http://www.ontologydesignpatterns.org/ont/dul/DUL.owl#>\n",
    "PREFIX ex: <http://example.org/data/>\n",
    "\n",
    "SELECT DISTINCT ?obj WHERE {\n",
    "  ?obj a obot:Object ;\n",
    "    dul:hasLocation ?loc .\n",
    "  ?loc a obot:CurrentLocation ;\n",
    "    obot:onTopOf ex:Counter .\n",
    "}\n",
    "\"\"\"\n",
    "results = obs_graph.query(cq2)\n",
    "print(\"Objects on the table:\")\n",
    "for row in results:\n",
    "    pprint(row)"
   ]
  },
  {
   "cell_type": "code",
   "execution_count": null,
   "id": "8a2e217e",
   "metadata": {},
   "outputs": [],
   "source": [
    "# What are the actions the robots has to perform?\n",
    "\n",
    "cq3 = \"\"\"\n",
    "PREFIX obot: <https://w3id.org/psr-action#>\n",
    "PREFIX dul: <http://www.ontologydesignpatterns.org/ont/dul/DUL.owl#>\n",
    "\n",
    "SELECT ?action ?actionLabel WHERE {\n",
    "  ?action a dul:Action ;\n",
    "    rdfs:label ?actionLabel .\n",
    "}\n",
    "\"\"\"\n",
    "results = action_graph.query(cq3)\n",
    "print(\"Actions:\")\n",
    "for row in results:\n",
    "    pprint(row)"
   ]
  },
  {
   "cell_type": "code",
   "execution_count": null,
   "id": "fda4e4e7",
   "metadata": {},
   "outputs": [],
   "source": [
    "# What are the actions and their order related to the objects on the counter?\n",
    "\n",
    "cq4 = \"\"\"\n",
    "PREFIX obot: <https://w3id.org/OntoBOT#>\n",
    "PREFIX dul: <http://www.ontologydesignpatterns.org/ont/dul/DUL.owl#>\n",
    "PREFIX ex: <http://example.org/data/>\n",
    "PREFIX example: <http://example.com/ns#> \n",
    "PREFIX rdfs: <http://www.w3.org/2000/01/rdf-schema#>\n",
    "\n",
    "SELECT DISTINCT ?action ?actionLabel ?targetObj ?targetLabel ?follows ?followsLabel ?precedes ?precedesLabel WHERE {\n",
    "  {\n",
    "    ?obj a obot:Object ;\n",
    "         rdfs:label ?objLabel ;\n",
    "         dul:hasLocation ?loc .\n",
    "    ?loc a obot:CurrentLocation ;\n",
    "         obot:onTopOf ex:Counter .\n",
    "\n",
    "    ?action a dul:Action ;\n",
    "            rdfs:label ?actionLabel ;\n",
    "            obot:actsOn ?targetObj .\n",
    "    ?targetObj rdfs:label ?targetObjLabel .\n",
    "    OPTIONAL { ?action obot:follows ?follows . ?follows rdfs:label ?followsLabel . }\n",
    "    OPTIONAL { ?action obot:precedes ?precedes . ?precedes rdfs:label ?precedesLabel . }\n",
    "    BIND(?objLabel AS ?targetObjLabel)\n",
    "  }\n",
    "  UNION\n",
    "  {\n",
    "    ?linkedAction a dul:Action ;\n",
    "                  obot:actsOn ?linkedObj ;\n",
    "                  rdfs:label ?linkedLabel .\n",
    "    {\n",
    "      ?linkedAction obot:follows ?action .\n",
    "    } UNION {\n",
    "      ?linkedAction obot:precedes ?action .\n",
    "    }\n",
    "\n",
    "    ?action a dul:Action ;\n",
    "            rdfs:label ?actionLabel ;\n",
    "            obot:actsOn ?targetObj .\n",
    "    OPTIONAL { ?action obot:follows ?follows . ?follows rdfs:label ?followsLabel . }\n",
    "    OPTIONAL { ?action obot:precedes ?precedes . ?precedes rdfs:label ?precedesLabel . }\n",
    "    OPTIONAL { ?targetObj rdfs:label ?targetLabel . }\n",
    "}\n",
    "}\n",
    "\"\"\"\n",
    "combined_graph = action_graph + obs_graph\n",
    "results = combined_graph.query(cq4)\n",
    "print(\"Actions:\")\n",
    "for row in results:\n",
    "    pprint(row)"
   ]
  },
  {
   "cell_type": "code",
   "execution_count": null,
   "id": "21053086",
   "metadata": {},
   "outputs": [],
   "source": []
  }
 ],
 "metadata": {
  "kernelspec": {
   "display_name": "base",
   "language": "python",
   "name": "python3"
  },
  "language_info": {
   "codemirror_mode": {
    "name": "ipython",
    "version": 3
   },
   "file_extension": ".py",
   "mimetype": "text/x-python",
   "name": "python",
   "nbconvert_exporter": "python",
   "pygments_lexer": "ipython3",
   "version": "3.12.2"
  }
 },
 "nbformat": 4,
 "nbformat_minor": 5
}
